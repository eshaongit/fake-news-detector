{
  "nbformat": 4,
  "nbformat_minor": 0,
  "metadata": {
    "colab": {
      "name": "GermanFakeNewsDetector.ipynb",
      "provenance": [],
      "collapsed_sections": []
    },
    "kernelspec": {
      "name": "python3",
      "display_name": "Python 3"
    }
  },
  "cells": [
    {
      "cell_type": "markdown",
      "metadata": {
        "id": "FaIBmnXCknPl"
      },
      "source": [
        "About the Dataset:\n",
        "\n",
        "1. id: unique id for a news article\n",
        "2. title: the title of a news article\n",
        "3. author: author of the news article\n",
        "4. text: the text of the article; could be incomplete\n",
        "5. label: a label that marks whether the news article is real or fake:\n",
        "           1: Fake news\n",
        "           0: real News\n",
        "\n",
        "\n",
        "\n"
      ]
    },
    {
      "cell_type": "markdown",
      "metadata": {
        "id": "k399dHafvL5N"
      },
      "source": [
        "Importing the Dependencies"
      ]
    },
    {
      "cell_type": "code",
      "metadata": {
        "id": "-fetC5yqkPVe"
      },
      "source": [
        "import numpy as np\n",
        "import pandas as pd\n",
        "import re \n",
        "# re is regular expression. it is used to search a text in the document\n",
        "from nltk.corpus import stopwords \n",
        "# corpus is main content or important content of a document\n",
        "# stopwords are those words that do not add much value to our paragraph (articles, wh words)\n",
        "# nltk stands for natural language tool kit\n",
        "from nltk.stem.porter import PorterStemmer\n",
        "\n",
        "# stemming takes the word and removes the suffix of that word and returns the root word\n",
        "from sklearn.feature_extraction.text import TfidfVectorizer\n",
        "# this function makes the text into vectors (numbers)\n",
        "from sklearn.model_selection import train_test_split\n",
        "# splits data into train and testing data\n",
        "from sklearn.linear_model import LogisticRegression\n",
        "from sklearn.metrics import accuracy_score\n"
      ],
      "execution_count": null,
      "outputs": []
    },
    {
      "cell_type": "code",
      "source": [
        "\n",
        "from nltk.corpus import stopwords\n",
        "from sklearn.feature_extraction.text import CountVectorizer\n",
        "import nltk\n",
        "nltk.download('stopwords')\n",
        "german_stop_words = stopwords.words('german')\n",
        "vect = CountVectorizer(stop_words = german_stop_words) # Now use this in your pipeline\n"
      ],
      "metadata": {
        "colab": {
          "base_uri": "https://localhost:8080/"
        },
        "id": "b9r0XoITHtid",
        "outputId": "77a8da1e-6327-4145-eb84-594c1b21f14a"
      },
      "execution_count": null,
      "outputs": [
        {
          "output_type": "stream",
          "name": "stdout",
          "text": [
            "[nltk_data] Downloading package stopwords to /root/nltk_data...\n",
            "[nltk_data]   Unzipping corpora/stopwords.zip.\n"
          ]
        }
      ]
    },
    {
      "cell_type": "markdown",
      "metadata": {
        "id": "NjeGd1CLw_6R"
      },
      "source": [
        "Data Pre-processing"
      ]
    },
    {
      "cell_type": "code",
      "metadata": {
        "id": "nCGcpu_1wzLw"
      },
      "source": [
        "# loading the dataset to a pandas DataFrame\n",
        "news_dataset = pd.read_csv('german.csv')"
      ],
      "execution_count": null,
      "outputs": []
    },
    {
      "cell_type": "code",
      "metadata": {
        "colab": {
          "base_uri": "https://localhost:8080/"
        },
        "id": "aRgmbYSbxV4-",
        "outputId": "bc8ab42c-1ed8-49ad-ed85-a24c7116bd77"
      },
      "source": [
        "news_dataset.shape"
      ],
      "execution_count": null,
      "outputs": [
        {
          "output_type": "execute_result",
          "data": {
            "text/plain": [
              "(1249, 4)"
            ]
          },
          "metadata": {},
          "execution_count": 4
        }
      ]
    },
    {
      "cell_type": "code",
      "metadata": {
        "colab": {
          "base_uri": "https://localhost:8080/",
          "height": 206
        },
        "id": "jjJ1eB6RxZaS",
        "outputId": "05a0fa63-6295-4cb4-a942-8ebaa3790cf1"
      },
      "source": [
        "# print the first 5 rows of the dataframe\n",
        "news_dataset.head()"
      ],
      "execution_count": null,
      "outputs": [
        {
          "output_type": "execute_result",
          "data": {
            "text/plain": [
              "       id                                              Title  \\\n",
              "0  773233  Exklusiv! Das geheime WhatsApp-Chat-Protokoll ...   \n",
              "1  773234  Trump droht, jeden zu verspeisen, der an seine...   \n",
              "2  773235  Soli runter, keine Steuererhöhungen, kein Klim...   \n",
              "3  773236  Hat sie eine Affäre? Joachim Sauer glaubt Ange...   \n",
              "4  773237  \"Er hat ja nur HALBneger gesagt\": So begründet...   \n",
              "\n",
              "                                                Text  Label  \n",
              "0  Die Sondierungsgespräche zwischen Union und SP...      1  \n",
              "1  Nun ist es auch medizinisch offiziell bestätig...      1  \n",
              "2  Es waren zähe Verhandlungen, doch die Freien D...      1  \n",
              "3  Wo treibt sie sich immer bis spät in die Nacht...      1  \n",
              "4  Der Parteivorstand drückt nochmal ein Auge zu:...      1  "
            ],
            "text/html": [
              "\n",
              "  <div id=\"df-d750d4d0-92f2-4360-a61c-8269f4ade6eb\">\n",
              "    <div class=\"colab-df-container\">\n",
              "      <div>\n",
              "<style scoped>\n",
              "    .dataframe tbody tr th:only-of-type {\n",
              "        vertical-align: middle;\n",
              "    }\n",
              "\n",
              "    .dataframe tbody tr th {\n",
              "        vertical-align: top;\n",
              "    }\n",
              "\n",
              "    .dataframe thead th {\n",
              "        text-align: right;\n",
              "    }\n",
              "</style>\n",
              "<table border=\"1\" class=\"dataframe\">\n",
              "  <thead>\n",
              "    <tr style=\"text-align: right;\">\n",
              "      <th></th>\n",
              "      <th>id</th>\n",
              "      <th>Title</th>\n",
              "      <th>Text</th>\n",
              "      <th>Label</th>\n",
              "    </tr>\n",
              "  </thead>\n",
              "  <tbody>\n",
              "    <tr>\n",
              "      <th>0</th>\n",
              "      <td>773233</td>\n",
              "      <td>Exklusiv! Das geheime WhatsApp-Chat-Protokoll ...</td>\n",
              "      <td>Die Sondierungsgespräche zwischen Union und SP...</td>\n",
              "      <td>1</td>\n",
              "    </tr>\n",
              "    <tr>\n",
              "      <th>1</th>\n",
              "      <td>773234</td>\n",
              "      <td>Trump droht, jeden zu verspeisen, der an seine...</td>\n",
              "      <td>Nun ist es auch medizinisch offiziell bestätig...</td>\n",
              "      <td>1</td>\n",
              "    </tr>\n",
              "    <tr>\n",
              "      <th>2</th>\n",
              "      <td>773235</td>\n",
              "      <td>Soli runter, keine Steuererhöhungen, kein Klim...</td>\n",
              "      <td>Es waren zähe Verhandlungen, doch die Freien D...</td>\n",
              "      <td>1</td>\n",
              "    </tr>\n",
              "    <tr>\n",
              "      <th>3</th>\n",
              "      <td>773236</td>\n",
              "      <td>Hat sie eine Affäre? Joachim Sauer glaubt Ange...</td>\n",
              "      <td>Wo treibt sie sich immer bis spät in die Nacht...</td>\n",
              "      <td>1</td>\n",
              "    </tr>\n",
              "    <tr>\n",
              "      <th>4</th>\n",
              "      <td>773237</td>\n",
              "      <td>\"Er hat ja nur HALBneger gesagt\": So begründet...</td>\n",
              "      <td>Der Parteivorstand drückt nochmal ein Auge zu:...</td>\n",
              "      <td>1</td>\n",
              "    </tr>\n",
              "  </tbody>\n",
              "</table>\n",
              "</div>\n",
              "      <button class=\"colab-df-convert\" onclick=\"convertToInteractive('df-d750d4d0-92f2-4360-a61c-8269f4ade6eb')\"\n",
              "              title=\"Convert this dataframe to an interactive table.\"\n",
              "              style=\"display:none;\">\n",
              "        \n",
              "  <svg xmlns=\"http://www.w3.org/2000/svg\" height=\"24px\"viewBox=\"0 0 24 24\"\n",
              "       width=\"24px\">\n",
              "    <path d=\"M0 0h24v24H0V0z\" fill=\"none\"/>\n",
              "    <path d=\"M18.56 5.44l.94 2.06.94-2.06 2.06-.94-2.06-.94-.94-2.06-.94 2.06-2.06.94zm-11 1L8.5 8.5l.94-2.06 2.06-.94-2.06-.94L8.5 2.5l-.94 2.06-2.06.94zm10 10l.94 2.06.94-2.06 2.06-.94-2.06-.94-.94-2.06-.94 2.06-2.06.94z\"/><path d=\"M17.41 7.96l-1.37-1.37c-.4-.4-.92-.59-1.43-.59-.52 0-1.04.2-1.43.59L10.3 9.45l-7.72 7.72c-.78.78-.78 2.05 0 2.83L4 21.41c.39.39.9.59 1.41.59.51 0 1.02-.2 1.41-.59l7.78-7.78 2.81-2.81c.8-.78.8-2.07 0-2.86zM5.41 20L4 18.59l7.72-7.72 1.47 1.35L5.41 20z\"/>\n",
              "  </svg>\n",
              "      </button>\n",
              "      \n",
              "  <style>\n",
              "    .colab-df-container {\n",
              "      display:flex;\n",
              "      flex-wrap:wrap;\n",
              "      gap: 12px;\n",
              "    }\n",
              "\n",
              "    .colab-df-convert {\n",
              "      background-color: #E8F0FE;\n",
              "      border: none;\n",
              "      border-radius: 50%;\n",
              "      cursor: pointer;\n",
              "      display: none;\n",
              "      fill: #1967D2;\n",
              "      height: 32px;\n",
              "      padding: 0 0 0 0;\n",
              "      width: 32px;\n",
              "    }\n",
              "\n",
              "    .colab-df-convert:hover {\n",
              "      background-color: #E2EBFA;\n",
              "      box-shadow: 0px 1px 2px rgba(60, 64, 67, 0.3), 0px 1px 3px 1px rgba(60, 64, 67, 0.15);\n",
              "      fill: #174EA6;\n",
              "    }\n",
              "\n",
              "    [theme=dark] .colab-df-convert {\n",
              "      background-color: #3B4455;\n",
              "      fill: #D2E3FC;\n",
              "    }\n",
              "\n",
              "    [theme=dark] .colab-df-convert:hover {\n",
              "      background-color: #434B5C;\n",
              "      box-shadow: 0px 1px 3px 1px rgba(0, 0, 0, 0.15);\n",
              "      filter: drop-shadow(0px 1px 2px rgba(0, 0, 0, 0.3));\n",
              "      fill: #FFFFFF;\n",
              "    }\n",
              "  </style>\n",
              "\n",
              "      <script>\n",
              "        const buttonEl =\n",
              "          document.querySelector('#df-d750d4d0-92f2-4360-a61c-8269f4ade6eb button.colab-df-convert');\n",
              "        buttonEl.style.display =\n",
              "          google.colab.kernel.accessAllowed ? 'block' : 'none';\n",
              "\n",
              "        async function convertToInteractive(key) {\n",
              "          const element = document.querySelector('#df-d750d4d0-92f2-4360-a61c-8269f4ade6eb');\n",
              "          const dataTable =\n",
              "            await google.colab.kernel.invokeFunction('convertToInteractive',\n",
              "                                                     [key], {});\n",
              "          if (!dataTable) return;\n",
              "\n",
              "          const docLinkHtml = 'Like what you see? Visit the ' +\n",
              "            '<a target=\"_blank\" href=https://colab.research.google.com/notebooks/data_table.ipynb>data table notebook</a>'\n",
              "            + ' to learn more about interactive tables.';\n",
              "          element.innerHTML = '';\n",
              "          dataTable['output_type'] = 'display_data';\n",
              "          await google.colab.output.renderOutput(dataTable, element);\n",
              "          const docLink = document.createElement('div');\n",
              "          docLink.innerHTML = docLinkHtml;\n",
              "          element.appendChild(docLink);\n",
              "        }\n",
              "      </script>\n",
              "    </div>\n",
              "  </div>\n",
              "  "
            ]
          },
          "metadata": {},
          "execution_count": 5
        }
      ]
    },
    {
      "cell_type": "code",
      "metadata": {
        "colab": {
          "base_uri": "https://localhost:8080/"
        },
        "id": "QYkDi4SwxlKi",
        "outputId": "9ce75f8a-9ca5-4b54-991f-5e1ae6b0b5e4"
      },
      "source": [
        "# counting the number of missing values in the dataset\n",
        "news_dataset.isnull().sum()"
      ],
      "execution_count": null,
      "outputs": [
        {
          "output_type": "execute_result",
          "data": {
            "text/plain": [
              "id       0\n",
              "Title    0\n",
              "Text     0\n",
              "Label    0\n",
              "dtype: int64"
            ]
          },
          "metadata": {},
          "execution_count": 6
        }
      ]
    },
    {
      "cell_type": "code",
      "metadata": {
        "id": "Mc04lQrhx57m"
      },
      "source": [
        "# replacing the null values with empty string\n",
        "news_dataset = news_dataset.fillna('') #fillna= fill name "
      ],
      "execution_count": null,
      "outputs": []
    },
    {
      "cell_type": "code",
      "metadata": {
        "id": "H7TZgHszygxj"
      },
      "source": [
        "\n",
        "news_dataset['content'] = news_dataset['Title']"
      ],
      "execution_count": null,
      "outputs": []
    },
    {
      "cell_type": "code",
      "metadata": {
        "colab": {
          "base_uri": "https://localhost:8080/"
        },
        "id": "cbF6GBBpzBey",
        "outputId": "a3ace75a-c22d-40ac-c112-f5a59fc10790"
      },
      "source": [
        "print(news_dataset['content'])"
      ],
      "execution_count": null,
      "outputs": [
        {
          "output_type": "stream",
          "name": "stdout",
          "text": [
            "0       Exklusiv! Das geheime WhatsApp-Chat-Protokoll ...\n",
            "1       Trump droht, jeden zu verspeisen, der an seine...\n",
            "2       Soli runter, keine Steuererhöhungen, kein Klim...\n",
            "3       Hat sie eine Affäre? Joachim Sauer glaubt Ange...\n",
            "4       \"Er hat ja nur HALBneger gesagt\": So begründet...\n",
            "                              ...                        \n",
            "1244    Bundesverfassungsgericht erklärt Regierung für...\n",
            "1245    Europaweiter Jubel: Politiker beenden Krise du...\n",
            "1246    Verfassungsschutz wird künftig von Horde Schim...\n",
            "1247    Petition, dass Politiker regelmäßig Backpfeife...\n",
            "1248    Innenministerium lässt Verfassungsschutz vom V...\n",
            "Name: content, Length: 1249, dtype: object\n"
          ]
        }
      ]
    },
    {
      "cell_type": "code",
      "source": [
        "news_dataset.shape"
      ],
      "metadata": {
        "id": "hksE1iSL1Axt",
        "outputId": "8f734615-2348-4954-a8d3-e85d193ff151",
        "colab": {
          "base_uri": "https://localhost:8080/"
        }
      },
      "execution_count": null,
      "outputs": [
        {
          "output_type": "execute_result",
          "data": {
            "text/plain": [
              "(1249, 5)"
            ]
          },
          "metadata": {},
          "execution_count": 10
        }
      ]
    },
    {
      "cell_type": "code",
      "metadata": {
        "id": "LfBtAvLtzEo6"
      },
      "source": [
        "# separating the data & label\n",
        "X = news_dataset.drop(columns='Label', axis=1)\n",
        "Y = news_dataset['Label']"
      ],
      "execution_count": null,
      "outputs": []
    },
    {
      "cell_type": "code",
      "metadata": {
        "colab": {
          "base_uri": "https://localhost:8080/"
        },
        "id": "oHPBr540zl1h",
        "outputId": "527b2328-8e8a-4f38-c3a1-7a4d46149ae5"
      },
      "source": [
        "print(X)\n",
        "print(Y)"
      ],
      "execution_count": null,
      "outputs": [
        {
          "output_type": "stream",
          "name": "stdout",
          "text": [
            "          id                                              Title  \\\n",
            "0     773233  Exklusiv! Das geheime WhatsApp-Chat-Protokoll ...   \n",
            "1     773234  Trump droht, jeden zu verspeisen, der an seine...   \n",
            "2     773235  Soli runter, keine Steuererhöhungen, kein Klim...   \n",
            "3     773236  Hat sie eine Affäre? Joachim Sauer glaubt Ange...   \n",
            "4     773237  \"Er hat ja nur HALBneger gesagt\": So begründet...   \n",
            "...      ...                                                ...   \n",
            "1244  773925  Bundesverfassungsgericht erklärt Regierung für...   \n",
            "1245  773926  Europaweiter Jubel: Politiker beenden Krise du...   \n",
            "1246  773927  Verfassungsschutz wird künftig von Horde Schim...   \n",
            "1247  773928  Petition, dass Politiker regelmäßig Backpfeife...   \n",
            "1248  773929  Innenministerium lässt Verfassungsschutz vom V...   \n",
            "\n",
            "                                                   Text  \\\n",
            "0     Die Sondierungsgespräche zwischen Union und SP...   \n",
            "1     Nun ist es auch medizinisch offiziell bestätig...   \n",
            "2     Es waren zähe Verhandlungen, doch die Freien D...   \n",
            "3     Wo treibt sie sich immer bis spät in die Nacht...   \n",
            "4     Der Parteivorstand drückt nochmal ein Auge zu:...   \n",
            "...                                                 ...   \n",
            "1244  Irgendwann ist es einfach genug: Das Bundesver...   \n",
            "1245  Gute Nachrichten! Die seit Jahren andauernde e...   \n",
            "1246  Nach dem Versagen der Verfassungsschutzbehörde...   \n",
            "1247  Noch nie hat eine Online-Petition so schnell d...   \n",
            "1248  Nach dem Rücktritt von Verfassungsschutzpräsid...   \n",
            "\n",
            "                                                content  \n",
            "0     Exklusiv! Das geheime WhatsApp-Chat-Protokoll ...  \n",
            "1     Trump droht, jeden zu verspeisen, der an seine...  \n",
            "2     Soli runter, keine Steuererhöhungen, kein Klim...  \n",
            "3     Hat sie eine Affäre? Joachim Sauer glaubt Ange...  \n",
            "4     \"Er hat ja nur HALBneger gesagt\": So begründet...  \n",
            "...                                                 ...  \n",
            "1244  Bundesverfassungsgericht erklärt Regierung für...  \n",
            "1245  Europaweiter Jubel: Politiker beenden Krise du...  \n",
            "1246  Verfassungsschutz wird künftig von Horde Schim...  \n",
            "1247  Petition, dass Politiker regelmäßig Backpfeife...  \n",
            "1248  Innenministerium lässt Verfassungsschutz vom V...  \n",
            "\n",
            "[1249 rows x 4 columns]\n",
            "0       1\n",
            "1       1\n",
            "2       1\n",
            "3       1\n",
            "4       1\n",
            "       ..\n",
            "1244    1\n",
            "1245    1\n",
            "1246    1\n",
            "1247    1\n",
            "1248    1\n",
            "Name: Label, Length: 1249, dtype: int64\n"
          ]
        }
      ]
    },
    {
      "cell_type": "code",
      "metadata": {
        "id": "Ga_DaZxhzoWM"
      },
      "source": [
        "port_stem = PorterStemmer()"
      ],
      "execution_count": null,
      "outputs": []
    },
    {
      "cell_type": "code",
      "metadata": {
        "id": "zY-n0dCh0e-y"
      },
      "source": [
        "def stemming(content):\n",
        "    stemmed_content = re.sub('[^a-zA-Z]',' ',content) #this removes evething except lowercase and upper case alphabets\n",
        "    stemmed_content = stemmed_content.lower() #converting everything to lowercase letter\n",
        "    stemmed_content = stemmed_content.split() #converting to list\n",
        "    stemmed_content = [port_stem.stem(word) for word in stemmed_content if not word in stopwords.words('german')]\n",
        "    # stemming everything except stopwords\n",
        "    stemmed_content = ' '.join(stemmed_content) #joining all the words\n",
        "    return stemmed_content #processed text"
      ],
      "execution_count": null,
      "outputs": []
    },
    {
      "cell_type": "code",
      "metadata": {
        "id": "MBUIk4c94yTL"
      },
      "source": [
        "news_dataset['content'] = news_dataset['content'].apply(stemming)"
      ],
      "execution_count": null,
      "outputs": []
    },
    {
      "cell_type": "code",
      "metadata": {
        "colab": {
          "base_uri": "https://localhost:8080/"
        },
        "id": "xmwK-zyO5Stg",
        "outputId": "ad7544bc-07a4-445f-8601-8bba744bc403"
      },
      "source": [
        "print(news_dataset['content'])"
      ],
      "execution_count": null,
      "outputs": [
        {
          "output_type": "stream",
          "name": "stdout",
          "text": [
            "0       exklusiv geheim whatsapp chat protokol groko s...\n",
            "1       trump droht verspeisen geistigen gesundheit zw...\n",
            "2       soli runter steuererh hungen klimaziel fdp set...\n",
            "3       aff re joachim sauer glaubt angela merkel albe...\n",
            "4       ja halbneg gesagt begr ndet afd jen maier blei...\n",
            "                              ...                        \n",
            "1244    bundesverfassungsgericht erkl rt regierung f r...\n",
            "1245    europaweit jubel politik beenden krise effekt ...\n",
            "1246    verfassungsschutz k nftig hord schimpansen gef...\n",
            "1247    petit politik regelm ig backpfeifen erhalten e...\n",
            "1248    innenministerium l sst verfassungsschutz verfa...\n",
            "Name: content, Length: 1249, dtype: object\n"
          ]
        }
      ]
    },
    {
      "cell_type": "code",
      "metadata": {
        "id": "5ZIidnta5k5h"
      },
      "source": [
        "#separating the data and label\n",
        "X = news_dataset['content'].values\n",
        "Y = news_dataset['Label'].values"
      ],
      "execution_count": null,
      "outputs": []
    },
    {
      "cell_type": "code",
      "metadata": {
        "colab": {
          "base_uri": "https://localhost:8080/"
        },
        "id": "3nA_SBZX6BeH",
        "outputId": "012ba36d-0907-4cb3-efdc-2d7e1600f847"
      },
      "source": [
        "print(X)"
      ],
      "execution_count": null,
      "outputs": [
        {
          "output_type": "stream",
          "name": "stdout",
          "text": [
            "['exklusiv geheim whatsapp chat protokol groko sondierungsgespr che'\n",
            " 'trump droht verspeisen geistigen gesundheit zweifelt'\n",
            " 'soli runter steuererh hungen klimaziel fdp setzt sondierungen' ...\n",
            " 'verfassungsschutz k nftig hord schimpansen gef hrt'\n",
            " 'petit politik regelm ig backpfeifen erhalten erreicht quorum sekunden'\n",
            " 'innenministerium l sst verfassungsschutz verfassungsschutz beobachten']\n"
          ]
        }
      ]
    },
    {
      "cell_type": "code",
      "metadata": {
        "colab": {
          "base_uri": "https://localhost:8080/"
        },
        "id": "NgkFGXkg6HS4",
        "outputId": "394a22a7-ef18-44ba-bd9f-8f120f068421"
      },
      "source": [
        "print(Y)"
      ],
      "execution_count": null,
      "outputs": [
        {
          "output_type": "stream",
          "name": "stdout",
          "text": [
            "[1 1 1 ... 1 1 1]\n"
          ]
        }
      ]
    },
    {
      "cell_type": "code",
      "metadata": {
        "colab": {
          "base_uri": "https://localhost:8080/"
        },
        "id": "Iu2ZEBkL6QTm",
        "outputId": "e9ab7ef1-31d6-4992-bfea-917d61927461"
      },
      "source": [
        "Y.shape \n",
        "# shows rows in Y"
      ],
      "execution_count": null,
      "outputs": [
        {
          "output_type": "execute_result",
          "data": {
            "text/plain": [
              "(1249,)"
            ]
          },
          "metadata": {},
          "execution_count": 20
        }
      ]
    },
    {
      "cell_type": "code",
      "metadata": {
        "id": "BMfepsQZ6TES"
      },
      "source": [
        "# converting the textual data to numerical data\n",
        "vectorizer = TfidfVectorizer()\n",
        "vectorizer.fit(X)\n",
        "\n",
        "X = vectorizer.transform(X)"
      ],
      "execution_count": null,
      "outputs": []
    },
    {
      "cell_type": "code",
      "metadata": {
        "colab": {
          "base_uri": "https://localhost:8080/"
        },
        "id": "MJj5esbs7Nzy",
        "outputId": "47fa1bb9-bc19-4975-c582-da562f87fc4b"
      },
      "source": [
        "print(X)"
      ],
      "execution_count": null,
      "outputs": [
        {
          "output_type": "stream",
          "name": "stdout",
          "text": [
            "  (0, 3610)\t0.3653694324843706\n",
            "  (0, 2893)\t0.3388289797953309\n",
            "  (0, 2454)\t0.3504226246537418\n",
            "  (0, 1370)\t0.38643577492715064\n",
            "  (0, 1215)\t0.3504226246537418\n",
            "  (0, 996)\t0.3388289797953309\n",
            "  (0, 584)\t0.3293562822109617\n",
            "  (0, 583)\t0.3653694324843706\n",
            "  (1, 3753)\t0.45406460109809293\n",
            "  (1, 3431)\t0.45406460109809293\n",
            "  (1, 3209)\t0.2613340281504413\n",
            "  (1, 1302)\t0.45406460109809293\n",
            "  (1, 1226)\t0.45406460109809293\n",
            "  (1, 786)\t0.32711752910717473\n",
            "  (2, 3017)\t0.38555639259793695\n",
            "  (2, 2891)\t0.36453798921899966\n",
            "  (2, 2882)\t0.38555639259793695\n",
            "  (2, 2835)\t0.29718606838108086\n",
            "  (2, 2679)\t0.38555639259793695\n",
            "  (2, 1728)\t0.36453798921899966\n",
            "  (2, 1519)\t0.36453798921899966\n",
            "  (2, 1038)\t0.2589505906332278\n",
            "  (3, 2890)\t0.34501227308867466\n",
            "  (3, 2713)\t0.34501227308867466\n",
            "  (3, 2512)\t0.25474804871440576\n",
            "  :\t:\n",
            "  (1245, 1962)\t0.377151098697677\n",
            "  (1245, 1807)\t0.33068812540586456\n",
            "  (1245, 1642)\t0.377151098697677\n",
            "  (1245, 989)\t0.3565909054823004\n",
            "  (1245, 817)\t0.377151098697677\n",
            "  (1245, 330)\t0.3420032162436231\n",
            "  (1246, 3373)\t0.38970786585756634\n",
            "  (1246, 2739)\t0.45724666348223225\n",
            "  (1246, 2211)\t0.4009163502828128\n",
            "  (1246, 1508)\t0.3294099526567032\n",
            "  (1246, 1498)\t0.45724666348223225\n",
            "  (1246, 1199)\t0.4009163502828128\n",
            "  (1247, 2814)\t0.3569861607492488\n",
            "  (1247, 2537)\t0.3375252484900391\n",
            "  (1247, 2470)\t0.3569861607492488\n",
            "  (1247, 2402)\t0.26358925453514126\n",
            "  (1247, 2366)\t0.3569861607492488\n",
            "  (1247, 1527)\t0.3375252484900391\n",
            "  (1247, 957)\t0.32371751150212985\n",
            "  (1247, 926)\t0.2968579037822603\n",
            "  (1247, 284)\t0.3569861607492488\n",
            "  (1248, 3373)\t0.7384622914885632\n",
            "  (1248, 2960)\t0.28162426587183936\n",
            "  (1248, 1561)\t0.43322120038244205\n",
            "  (1248, 373)\t0.43322120038244205\n"
          ]
        }
      ]
    },
    {
      "cell_type": "markdown",
      "metadata": {
        "id": "mKBRGiSQ7YCZ"
      },
      "source": [
        "Splitting the dataset to training & test data"
      ]
    },
    {
      "cell_type": "code",
      "metadata": {
        "id": "VjMYwmBo7Pbx"
      },
      "source": [
        "# 80% training data and 20% testing data\n",
        "X_train, X_test, Y_train, Y_test = train_test_split(X, Y, test_size = 0.2, stratify=Y, random_state=2)"
      ],
      "execution_count": null,
      "outputs": []
    },
    {
      "cell_type": "markdown",
      "metadata": {
        "id": "rxDsQvgO8Oln"
      },
      "source": [
        "Training the Model: Logistic Regression"
      ]
    },
    {
      "cell_type": "code",
      "metadata": {
        "id": "HrSItcqc7qAy"
      },
      "source": [
        "model = LogisticRegression()"
      ],
      "execution_count": null,
      "outputs": []
    },
    {
      "cell_type": "code",
      "metadata": {
        "colab": {
          "base_uri": "https://localhost:8080/"
        },
        "id": "fdVJ839l8Vgx",
        "outputId": "c7d32ca0-4349-4e6b-b9b2-e2e844cd28bf"
      },
      "source": [
        "# training our model\n",
        "model.fit(X_train, Y_train)"
      ],
      "execution_count": null,
      "outputs": [
        {
          "output_type": "execute_result",
          "data": {
            "text/plain": [
              "LogisticRegression()"
            ]
          },
          "metadata": {},
          "execution_count": 25
        }
      ]
    },
    {
      "cell_type": "markdown",
      "metadata": {
        "id": "sbPKIFT89W1C"
      },
      "source": [
        "Evaluation"
      ]
    },
    {
      "cell_type": "markdown",
      "metadata": {
        "id": "YG6gqVty9ZDB"
      },
      "source": [
        "accuracy score"
      ]
    },
    {
      "cell_type": "code",
      "metadata": {
        "id": "VgwtWZY59PBw"
      },
      "source": [
        "# accuracy score on the training data\n",
        "X_train_prediction = model.predict(X_train)\n",
        "training_data_accuracy = accuracy_score(X_train_prediction, Y_train)"
      ],
      "execution_count": null,
      "outputs": []
    },
    {
      "cell_type": "code",
      "metadata": {
        "colab": {
          "base_uri": "https://localhost:8080/"
        },
        "id": "4L-r5mld-BFn",
        "outputId": "fe9a1ef1-facc-491e-d539-8a930a35c3a8"
      },
      "source": [
        "print('Accuracy score of the training data : ', training_data_accuracy)"
      ],
      "execution_count": null,
      "outputs": [
        {
          "output_type": "stream",
          "name": "stdout",
          "text": [
            "Accuracy score of the training data :  0.960960960960961\n"
          ]
        }
      ]
    },
    {
      "cell_type": "code",
      "metadata": {
        "id": "Kgcn13oO-H6e"
      },
      "source": [
        "# accuracy score on the test data\n",
        "X_test_prediction = model.predict(X_test)\n",
        "test_data_accuracy = accuracy_score(X_test_prediction, Y_test)"
      ],
      "execution_count": null,
      "outputs": []
    },
    {
      "cell_type": "code",
      "metadata": {
        "colab": {
          "base_uri": "https://localhost:8080/"
        },
        "id": "9TG0Yof1-vg2",
        "outputId": "cb0ec54d-57e8-4865-9479-3326bbd553da"
      },
      "source": [
        "print('Accuracy score of the test data : ', test_data_accuracy)"
      ],
      "execution_count": null,
      "outputs": [
        {
          "output_type": "stream",
          "name": "stdout",
          "text": [
            "Accuracy score of the test data :  0.724\n"
          ]
        }
      ]
    },
    {
      "cell_type": "markdown",
      "metadata": {
        "id": "Yun4seaE-6tV"
      },
      "source": [
        "Making a Predictive System"
      ]
    },
    {
      "cell_type": "code",
      "metadata": {
        "colab": {
          "base_uri": "https://localhost:8080/"
        },
        "id": "lPjssDL_-zo8",
        "outputId": "bd02fc06-c3ed-43d3-c18b-2321fca7ea57"
      },
      "source": [
        "X_new = X_test[225]\n",
        "\n",
        "prediction = model.predict(X_new)\n",
        "print(prediction)\n",
        "\n",
        "if (prediction[0]==0):\n",
        "  print('The news is Real')\n",
        "else:\n",
        "  print('The news is Fake')"
      ],
      "execution_count": null,
      "outputs": [
        {
          "output_type": "stream",
          "name": "stdout",
          "text": [
            "[1]\n",
            "The news is Fake\n"
          ]
        }
      ]
    },
    {
      "cell_type": "code",
      "metadata": {
        "colab": {
          "base_uri": "https://localhost:8080/"
        },
        "id": "8KaWdvDI_eUk",
        "outputId": "a404e512-1881-48f9-9b26-69cfb59d49d5"
      },
      "source": [
        "print(Y_test[225])"
      ],
      "execution_count": null,
      "outputs": [
        {
          "output_type": "stream",
          "name": "stdout",
          "text": [
            "1\n"
          ]
        }
      ]
    }
  ]
}